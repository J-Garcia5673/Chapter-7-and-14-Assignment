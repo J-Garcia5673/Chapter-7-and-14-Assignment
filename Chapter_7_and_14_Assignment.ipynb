{
  "nbformat": 4,
  "nbformat_minor": 0,
  "metadata": {
    "colab": {
      "provenance": [],
      "authorship_tag": "ABX9TyPvuRSgueEUiB5X5hffq+t/",
      "include_colab_link": true
    },
    "kernelspec": {
      "name": "python3",
      "display_name": "Python 3"
    },
    "language_info": {
      "name": "python"
    }
  },
  "cells": [
    {
      "cell_type": "markdown",
      "metadata": {
        "id": "view-in-github",
        "colab_type": "text"
      },
      "source": [
        "<a href=\"https://colab.research.google.com/github/J-Garcia5673/Chapter-7-and-14-Assignment/blob/main/Chapter_7_and_14_Assignment.ipynb\" target=\"_parent\"><img src=\"https://colab.research.google.com/assets/colab-badge.svg\" alt=\"Open In Colab\"/></a>"
      ]
    },
    {
      "cell_type": "markdown",
      "source": [],
      "metadata": {
        "id": "BgUzfZdI1d4Z"
      }
    },
    {
      "cell_type": "code",
      "source": [
        "stk1 = []\n",
        "stk2 = []\n",
        "\n",
        "p = {'$': 0, '(': 1, '+' :2, '-' :2, '*' :3, '/' :3, '^': 4}\n",
        "\n",
        "s = input(\"Enter your expression: \")\n",
        "\n",
        "def isOperator(s):\n",
        "  return s in [\"+\", \"-\", \"*\", \"/\", \"^\"]\n",
        "\n",
        "def postfix(s):\n",
        "  global stk1, stk2\n",
        "  stk1 = []\n",
        "  stk2 = ['$']\n",
        "  s = list(s)\n",
        "  k = 0\n",
        "  while k < len(s):\n",
        "    if s[k] == ' ': k+=1; continue\n",
        "    if s[k] == '(':\n",
        "      stk2.append(s[k])\n",
        "    elif s[k] == \")\":\n",
        "      while True:\n",
        "        if stk2[-1] == \"$\":\n",
        "          raise ValueError( \"Invalid expression - Mismatch Parenthesis\")\n",
        "        c = stk2.pop()\n",
        "        if c == \"(\": break\n",
        "        stk1.append(c)\n",
        "    elif s[k] >= \"0\" and s[k] <= \"9\":\n",
        "      t = \" \"\n",
        "      while k < len(s) and s[k] >= \"0\" and s[k] <= \"9\":\n",
        "        t += s[k]\n",
        "        k += 1\n",
        "      k -= 1\n",
        "      stk1 += [int(t)]\n",
        "    elif isOperator(s[k]):\n",
        "      c = stk2.pop()\n",
        "      while p[s[k]] <= p[c]:\n",
        "        stk1.append(c)\n",
        "        c = stk2.pop()\n",
        "      stk2.append(c)\n",
        "      stk2.append(s[k])\n",
        "    else:\n",
        "      raise ValueError(s[k] + \" Invalid Character found \")\n",
        "    k += 1\n",
        "\n",
        "while stk2:\n",
        "  c = stk2.pop()\n",
        "  if c == \"$\": break\n",
        "print('postfix: ', stk1)\n",
        "\n",
        "def evalop(stk1, i):\n",
        "  if i < 2: raise ValueError(\"Invalid expression - can not compute.\" )\n",
        "  k = stk1[i-1]\n",
        "  j = stk1[i-2]\n",
        "  if type(k) != int or type(j) != int: raise ValueError(\"Invalid expression...\" )\n",
        "  if stk1[i] == \"+\": r = k + j\n",
        "  elif stk1[i] == \"-\": r = j - k\n",
        "  elif stk1[i] == \"*\": r = k * j\n",
        "  elif stk1[i] == \"/\":\n",
        "    if k == 0: raise ValueError(\"Division by zero\")\n",
        "    else: r = j / k\n",
        "  elif stk1[i] == \"^\": r = j**k\n",
        "  return r\n",
        "\n",
        "def evaluate():\n",
        "  i = 0\n",
        "  size = len(stk1)\n",
        "  while i < size:\n",
        "    if isOperator(stk1[i]):\n",
        "      r = evalop(stk1, i)\n",
        "      stk1[i-2] = r\n",
        "      for k in range(i+1, len(stk1)):\n",
        "        stk1[k-2] = stk1[k]\n",
        "        i -= 2\n",
        "        size -= 2\n",
        "      i += 1\n",
        "  return stk1[0]\n",
        "\n",
        "try:\n",
        "  postfix(s)\n",
        "  r = evaluate()\n",
        "  print(\"result: \", r)\n",
        "except ValueError as v:\n",
        "  print(v)\n",
        "\n",
        ""
      ],
      "metadata": {
        "colab": {
          "base_uri": "https://localhost:8080/"
        },
        "id": "6PtidkWs2Ohm",
        "outputId": "1db95856-8d25-45e8-9409-78130771e67f"
      },
      "execution_count": null,
      "outputs": [
        {
          "output_type": "stream",
          "name": "stdout",
          "text": [
            "Enter your expression: 6+6\n",
            "postfix:  []\n"
          ]
        }
      ]
    }
  ]
}